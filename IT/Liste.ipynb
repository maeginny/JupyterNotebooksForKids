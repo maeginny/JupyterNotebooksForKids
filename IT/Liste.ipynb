{
 "cells": [
  {
   "cell_type": "markdown",
   "metadata": {},
   "source": [
    "# Liste\n",
    "\n",
    "che cos'è una lista? pensateci un attimo come la definireste?\n",
    "E' un elenco di elemnti. Ed ogni elemnto di quella lista di solito ha un significato da solo. Pensate per esempio alla lista della spesa, è un elenco di cose da comprare e ogni riga della lista è un elemento della lista che ha un suo significato, nella lista della spesa è una o più parole (\"latte\" oppure \"biscotti al cioccolato\"). \n",
    "In python le liste son degli elenchi di elementi chiusi tra parentesi quadrate e separati da una virgola. Dentro ad una lista ci possono essere numeri, stringhe o altri oggetti. Esite anche un comando `list` che serve per convertire altre cose (ad esempio come abbiamo visto nel capitolo precedente un `range`) in una lista\n",
    "Vediamo due o tre esempi:\n"
   ]
  },
  {
   "cell_type": "code",
   "execution_count": null,
   "metadata": {},
   "outputs": [],
   "source": [
    "lista_spesa = [\"latte\", \"biscotti al cioccolato\", \"caffè\", \"te\", \"pane\"]\n",
    "lista_numeri = [1,3,5,6]\n",
    "lista_da_range = list(range(0,5))\n",
    "\n",
    "print(\"lista della spesa:\" )\n",
    "print(lista_spesa)\n",
    "print(\"lista di numeri:\")\n",
    "print(lista_numeri)\n",
    "print(\"un'altra lista di numeri (da un range:\")\n",
    "print(lista_da_range)\n"
   ]
  },
  {
   "cell_type": "markdown",
   "metadata": {},
   "source": [
    "Ma la cosa interesante delle liste è che ci possiamo lavorare sopra. Ad esempio possiamo scorrere una lista con il comendo `for` che abbiamo imparato nel capitolo precedente. La avevamo usato il comamndo per scorrere un `range`, ma possiamo scorrere qualunque lista, ad esempio una lista della spesa"
   ]
  },
  {
   "cell_type": "code",
   "execution_count": null,
   "metadata": {},
   "outputs": [],
   "source": [
    "for elemento in lista_spesa:\n",
    "    print(\"devo comprare: \" + elemento)"
   ]
  },
  {
   "cell_type": "markdown",
   "metadata": {},
   "source": [
    "bello vero?? Ma proviamo a capire cosa abbiamo fatto. Una lista la potete immaginare come un treno con tante carrozze una attaccata all'altra. Immaginiamo di essere un addetto della stazione che deve fare l'inventario di cosa c'è dentro ad ogni carrozza. Per farlo inizia dalla prima carrozza, ci entra e guarda cosa c'è dentro. Quindi scende ed entra nella seconda carrozza, fino a quando il treno non è finito.\n",
    "\n",
    "Allora usando questo esempio proviamo a scriver il ciclo `for` che vi fa visitare tutte le carrozze"
   ]
  },
  {
   "cell_type": "code",
   "execution_count": null,
   "metadata": {},
   "outputs": [],
   "source": [
    "carrozze_del_treno = [\"merci\", \"persone\", \"animali\", \"automobili\", \"liquidi\"]\n",
    "for contenuto_carrozza in carrozze_del_treno:\n",
    "    print(\"Salgo sulla carrozza\")\n",
    "    print(\"* contiene:\" + contenuto_carrozza)\n",
    "    print(\"Scendo dalla carrozza\")\n",
    "    print(\"-------------\")\n",
    "print(\"FINE DEL TRENO!!!!\")"
   ]
  },
  {
   "cell_type": "markdown",
   "metadata": {},
   "source": [
    "Quindi ricapitolando il ciclo `for` mette nella variabile `contenuto_carrozza` il primo elemento della lista (la prima carrozza del treno), esegue tutte le istruzioni allineate sotto al `for`, poi ricomincia mettendo in `contenuto_carrozza` il secondo elemento, e così via fino a quando non arriva alla fine della lista. Solo allora il blocco di istruzioni `for` ha finito di visitare tutto il treno e si esegue l'istruzione successiva che stamp `\"FINE DEL TRENO!!!!\"`  "
   ]
  },
  {
   "cell_type": "markdown",
   "metadata": {},
   "source": [
    "Ma una lista la possiamo anche modificare, ad esempio aggiungendo un elemento in fondo alla lista con il comando append o inserendo un elemento in una cera posizione con il comando insert (ricordandovi che il computer conta sempre partendo da 0, quindi il primo elemento è alla posizione 0, il secondo alla posizione 1 ecc ecc) Posso anceh cambiare il contenuto della lista in un a certa posizione (ad esempio qui sotto cambio i biscotti al cioccolato con i biscotti ripieni)"
   ]
  },
  {
   "cell_type": "code",
   "execution_count": null,
   "metadata": {},
   "outputs": [],
   "source": [
    "lista_spesa.append(\"carta igienica\")\n",
    "print(lista_spesa)\n",
    "lista_spesa.insert(4, \"uova\")\n",
    "print(lista_spesa)\n",
    "lista_spesa[1] = \"biscotti_ripieni\"\n",
    "print(lista_spesa)"
   ]
  },
  {
   "cell_type": "markdown",
   "metadata": {},
   "source": [
    "E posso anche prendere un certo elemento che so essere in una certa posizione (ricordandovi che il computer conta sempre partendo da 0, quindi il primo elemento è alla posizione 0, il secondo alla posizione 1 ecc ecc).\n",
    "\n",
    "Insomma il numero della carrozza del treno...\n"
   ]
  },
  {
   "cell_type": "code",
   "execution_count": null,
   "metadata": {},
   "outputs": [],
   "source": [
    "print(lista_spesa[2]) "
   ]
  },
  {
   "cell_type": "markdown",
   "metadata": {},
   "source": [
    "Per fare il contrario, cioè sapere in che posizione è un certo elemento devo usare il comando `index`. Ricordatevi che la posizione è come sempre data contando da 0."
   ]
  },
  {
   "cell_type": "code",
   "execution_count": null,
   "metadata": {},
   "outputs": [],
   "source": [
    "print(\"il latte è in posizione:\")\n",
    "print(lista_spesa.index(\"latte\"))\n",
    "print(\"il pane è in posizione:\")\n",
    "print(lista_spesa.index(\"pane\"))"
   ]
  },
  {
   "cell_type": "code",
   "execution_count": null,
   "metadata": {},
   "outputs": [],
   "source": [
    "Ovviamente posso anche cancellare un elemnto "
   ]
  },
  {
   "cell_type": "code",
   "execution_count": null,
   "metadata": {},
   "outputs": [],
   "source": [
    "lista_spesa.remove(\"caffè\")\n",
    "print(lista_spesa)"
   ]
  },
  {
   "cell_type": "markdown",
   "metadata": {},
   "source": [
    "O sapere quanto è lungo il mio treno (quante carrozze ha) con il comando `len` che è l'abbreviazione di length che in inglese vuol dire appunto lunghezza"
   ]
  },
  {
   "cell_type": "code",
   "execution_count": null,
   "metadata": {},
   "outputs": [],
   "source": [
    "print(len(lista_spesa))"
   ]
  },
  {
   "cell_type": "markdown",
   "metadata": {},
   "source": [
    "Oppure posso fare cose utili come ordinare in ordine alfabetico o per numero (`sort` in inglese) la lista, o girarla al contrario (`reverse` in inglese)"
   ]
  },
  {
   "cell_type": "code",
   "execution_count": null,
   "metadata": {},
   "outputs": [],
   "source": [
    "lista_spesa.sort()\n",
    "print(lista_spesa)\n",
    "\n",
    "lista_spesa.reverse()\n",
    "print(lista_spesa)"
   ]
  },
  {
   "cell_type": "markdown",
   "metadata": {},
   "source": [
    "Posso anche unire due liste il comando `extend`"
   ]
  },
  {
   "cell_type": "code",
   "execution_count": null,
   "metadata": {},
   "outputs": [],
   "source": [
    "seconda_lista_spesa = ['latte','yogurt','formaggio','marmellata']\n",
    "lista_spesa.extend(seconda_lista_spesa)\n",
    "print(lista_spesa)"
   ]
  },
  {
   "cell_type": "markdown",
   "metadata": {},
   "source": [
    "E per fare il contrario? Cioè per prendere un pez<zo di una lista? Be' in questo Python è molto potente e in modo semplice. Abbiamo visto prima che se mettiamo un numero tra parentesi quadre Python ci restituisce l'elemento in quella posizione. Ma di numeri tra parentesi quadrate ne posso mettere 2, seprati da `:` Il primo è la posizione iniziale, il secondo la posizione finale. Provate l'esempio qui sotto che dovrebbe chiarire un po' le idee"
   ]
  },
  {
   "cell_type": "code",
   "execution_count": null,
   "metadata": {},
   "outputs": [],
   "source": [
    "print(lista_spesa[1:4])\n",
    "print(lista_spesa[0:3])\n",
    "print(lista_spesa[1:-1])\n",
    "print(lista_spesa[-5:-2])\n",
    "print(lista_spesa[0:15])\n"
   ]
  },
  {
   "cell_type": "markdown",
   "metadata": {},
   "source": [
    "Immagino che le prime due righe siano chiare. Le altre tre meritano un commento:\n",
    "* I numeri negativi si usano per contare dal fondo a ritroso. Quindi `-1` significa il penultimo, `-2' due prima dell'ultimo `-5` 5 prima ecc ecc\n",
    "* Se mettete un numero più grande della lunghezza totale della lista...Python semplicemente lo considera come \"vai fino all'ultimo\"\n",
    "\n",
    "Tra parentesi quadrate potete mettere anche un terzo numero, sempre separato dal secondo da `:`, che indica di quanti elementi andare avanti. Ad esempio se volete prendere un elemento si e uno no potete fare così\n"
   ]
  },
  {
   "cell_type": "code",
   "execution_count": null,
   "metadata": {},
   "outputs": [],
   "source": [
    "print(lista_spesa[0:6:2])"
   ]
  },
  {
   "cell_type": "markdown",
   "metadata": {},
   "source": [
    "E posso anche avere una lista che contiene altre liste. A che cosa serve? Beh ad esempio quando fate degli elenchi che ne contengono altri. Ad esempio nel nostro esempio della lista della spesa potreste organizzarvi per reparti:\n",
    "* Latticini\n",
    "    * Yogurt\n",
    "    * Latte\n",
    "    * formaggio\n",
    "* Freschi\n",
    "    * verdura\n",
    "    * carne\n",
    "* Secchi\n",
    "    * Biscotti\n",
    "    * crackers\n",
    "\n",
    "E come si fa questa cosa in python?"
   ]
  },
  {
   "cell_type": "code",
   "execution_count": null,
   "metadata": {},
   "outputs": [],
   "source": [
    "latticini = [\"Yogurt\",\"Latte\",\"formaggio\"]\n",
    "freschi = [\"verdure\",\"carne\"]\n",
    "secchi= [\"biscotti\", \"crackers\"]\n",
    "lista_spesa_organizzata = [latticini, freschi]\n",
    "#fingiamo di essermi dimenticato i secchi...li aggiungo dopo\n",
    "lista_spesa_organizzata.append(secchi)\n",
    "print(lista_spesa_organizzata)"
   ]
  },
  {
   "cell_type": "markdown",
   "metadata": {},
   "source": [
    "E come si fa a scorrere dentro questa lista? Ovviamente con 2 cicli `for` uno dentro all'altro.\n",
    "\n"
   ]
  },
  {
   "cell_type": "code",
   "execution_count": null,
   "metadata": {},
   "outputs": [],
   "source": [
    "for reparto in lista_spesa_organizzata:\n",
    "    print(\"sei nel raparto numero \" + str(lista_spesa_organizzata.index(reparto)))\n",
    "    print(\"qui devi comprare\")\n",
    "    for elemento in reparto:\n",
    "        print(\"  \" + elemento)\n"
   ]
  },
  {
   "cell_type": "markdown",
   "metadata": {},
   "source": [
    "Avete capito cosa fa il comando `str(lista_spesa_organizzata.index(reparto))`? Guardate dentro alle parentesi. Si parte a leggere dalla parentesi più interna:\n",
    "\n",
    "`(reparto)` : prendiamo la variabile `reparto` che è quella del for in cui c'è ogni elemento della `lista_spesa_organizzata`, quindi al primo giro ci sarà dentro la lista `latticini`, poi `freschi` ed infine `secchi`- Ok quindi con questa lista cosa facciamo?\n",
    "\n",
    "`lista_spesa_organizzata.index(reparto)` ci chiediamo in che posizione (indice, che in inglese si dice appunto `index`) della `lista_spesa_organizzata` è. Quindi sarà 0 al primo giro per la lista `latticini' COn questo risultato facciomo `str`per traformarlo in stringa e poterla unire a `\"sei nel reparto numero \"`\n",
    "\n",
    "Quindi `str(lista_spesa_organizzata.index(reparto))` avrà come risultato `\"0\"` al primo giro, `\"1\"` al secondo, `\"2\"` al terzo. Non è difficile no?\n",
    "\n"
   ]
  },
  {
   "cell_type": "markdown",
   "metadata": {},
   "source": [
    "In questo capitolo abbiamo visto come le liste possano contenere vari elementi e come si possa accedere ai singoli elementi sapendo la loro posizione nella lista. Ma non sempre è facile sapere la loro posizione. Non sarebbe più comodo poter dare un nome ad ogni elemnto? Certo che si, per questo in python esistono i [Dizionari](./Dizionari.ipynb)"
   ]
  },
  {
   "cell_type": "markdown",
   "metadata": {},
   "source": []
  }
 ],
 "metadata": {
  "kernelspec": {
   "display_name": "Python 3",
   "language": "python",
   "name": "python3"
  },
  "language_info": {
   "codemirror_mode": {
    "name": "ipython",
    "version": 3
   },
   "file_extension": ".py",
   "mimetype": "text/x-python",
   "name": "python",
   "nbconvert_exporter": "python",
   "pygments_lexer": "ipython3",
   "version": "3.7.6"
  }
 },
 "nbformat": 4,
 "nbformat_minor": 4
}
