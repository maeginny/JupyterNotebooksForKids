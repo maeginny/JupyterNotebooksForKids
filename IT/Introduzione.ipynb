{
 "cells": [
  {
   "cell_type": "markdown",
   "metadata": {},
   "source": [
    "# Introduzione\n",
    "\n",
    "In questa introduzione impareremo 3 cose\n",
    "\n",
    "* Che cos'è un Jupyther Notebook\n",
    "* Che cos'è Python\n",
    "* Come scrivere e modificare codice in Python dentro ad un notebook\n",
    "\n",
    "Allora cominciamo...\n",
    "\n",
    "## Che cos'è un Jupyther Notebook?\n",
    "Questa pagina che state leggendo è un Jupyther Notebook. In pratica è una pagina internet dove si può mischiare del testo scritto con del `codice` scritto in vari linguaggi. Il bello è che il codice si puù anche eseguirlo per vedere che cosa fa semplicemente cliccando dentro al box di testo che lo contiene e premendo CTRL-INVIO. Volete provare? Quello qui di seguito è il più semplice programma Python che si possa scrivere...cliccate con il mouse dentro al testo e premete contemporaneamente sulla vostra tastiera il tasto `CTRL` e il tasto `↵ Invio` "
   ]
  },
  {
   "cell_type": "code",
   "execution_count": null,
   "metadata": {},
   "outputs": [],
   "source": [
    "print(\"ciao mondo\")"
   ]
  },
  {
   "cell_type": "markdown",
   "metadata": {},
   "source": [
    "## Che cos'è Python?\n",
    "Python è un linguaggio di programmazione, oggi molto usato per tanti tipi di sviluppo software. Fa parte della famiglia dei cosidetti linguaggi di alto livello, cioè quelli più simili al linuguaggio dell'uomo (per contro quelli che sono più simili a come parlano i computer si dicono di basso livello). I linguaggi di alto livello, ed in particolare Python, sono stati progettati in modo che i programmi scritti in questi linguaggi siano facili da leggere e da scrivere.\n",
    "Se guardate il codice che avete appena eseguito, sapendo che `print` in inglese significa stampa...potete immaginare che cosa farà il programma anche solo leggendolo.\n",
    "Volete saperne di più? Beh se sfogliate un po' i Notebook qui disponibili imparerete a giocare con il codice in Python e diventerete dei coder ninja in Python. Ovviamente in internet trovate un sacco di altro materiale, a partire dall'introduzione di [Wikipedia](https://it.wikipedia.org/wiki/Python) che vi racconta un po' di curiosità sul linguaggio. Magari ci potete tornare in un secondo momento, se volete approfondire di più rispetto a quanto trovate qui."
   ]
  },
  {
   "cell_type": "markdown",
   "metadata": {},
   "source": [
    "## Come scrivere e modificare codice in Python dentro ad un notebook?\n",
    "Allora abbiamo già visto che quando incontrate un blocco di testo potete eseguirlo con i tasti `CTRL` + `↵ Invio`. Ma potete anche modificarlo. Ad esempio potete cambiare nel codice qui sotto il testo che volete stampare (suggerimento: è quello tra virgolette). Ogni volta che modificate il codice lo potete eseguire di nuovo con i tasti `CTRL` + `↵ Invio`. Provate..."
   ]
  },
  {
   "cell_type": "code",
   "execution_count": null,
   "metadata": {},
   "outputs": [],
   "source": [
    "print(\"ciao a tutto il mondo\")"
   ]
  },
  {
   "cell_type": "markdown",
   "metadata": {},
   "source": [
    "Fatto? Potete anche aggiungere delle righe. Qui sotto ad esempio io ho messo due istruzioni `print`, ma voi ne potete aggiungere una seconda o una terza. Provate.."
   ]
  },
  {
   "cell_type": "code",
   "execution_count": null,
   "metadata": {},
   "outputs": [],
   "source": [
    "print(\"ciao mondo\")\n",
    "print(\"ciao a tutto il mondo\")"
   ]
  },
  {
   "cell_type": "markdown",
   "metadata": {},
   "source": [
    "Quindi abbiamo imparato che quando andate a capo potete scrivere comandi diversi, e che quando eseguite il programma questi vengono eseguiti in sequenza, uno dopo l'altro nell'ordine in cui li avete scritti.\n",
    "Vedremo nel prossimo Notebook perchè questa cosa dell'ordine è importante? \n",
    "Se volete date ancora un'occhiata a quello che abbiamo detto e quando siete pronti passiamo al prossimo Notebook e vediamo [cosa sono le variabili](./Variabili.ipynb)"
   ]
  }
 ],
 "metadata": {
  "kernelspec": {
   "display_name": "Python 3",
   "language": "python",
   "name": "python3"
  },
  "language_info": {
   "codemirror_mode": {
    "name": "ipython",
    "version": 3
   },
   "file_extension": ".py",
   "mimetype": "text/x-python",
   "name": "python",
   "nbconvert_exporter": "python",
   "pygments_lexer": "ipython3",
   "version": "3.7.5"
  }
 },
 "nbformat": 4,
 "nbformat_minor": 4
}
