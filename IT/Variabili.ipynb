{
 "cells": [
  {
   "cell_type": "markdown",
   "metadata": {},
   "source": [
    "# Cosa sono le Variabili?\n",
    "Allora nell'[Introduzione](./Introduzione.ipynb) abbiamo visto come si usano i Notebook e che cos'è Python. Abbiamo anchje scritto dei semplici programmini che stampano un testo usando una istruzione `print` o una sequenza di istruzioni `print` che si eseguono una dopo l'altra. Una cosa come questa ad esempio che cosa farà? (provate a rispondere a mente, prima di eseguirla con `CTRL` + `↵ Invio` e verificare se avevate ragione)"
   ]
  },
  {
   "cell_type": "code",
   "execution_count": null,
   "metadata": {},
   "outputs": [],
   "source": [
    "print(\"era giusto\")\n",
    "print(\"quello che\")\n",
    "print(\"avevi pensato?\")"
   ]
  },
  {
   "cell_type": "markdown",
   "metadata": {},
   "source": [
    "Per ora abbiamo solo stampato dei testi. Non abbiamo mai chiesto al computer di ricordarsi qualcosa e di usarlo. Ma è sicuramente una cosa che un computer sa fare bene. Per farlo in un programma Python, dobbiamo usare una `Variabile`. Una variabiale non è altro che un'area della memoria del computer a cui diamo un nome, e dentro alla quale possiamo mettere delle informazioni che vogliamo ripescare con quel nome. Potete immaginarla come un foglio su cui scriviamo le informazioni che vogliamo salvare sul quale mettiamo una etichetta con un nome per fare in fretta a recuperarlo.\n",
    "Ad esempio potreste voler ricordare l'indirizzo di vostro nonno. Lo potreste scrivere su un foglio che etichettate con un nome facile da ricordare (ad esempio `indirizzo_nonno`). Poi anche dopo aver fatto altro potreste recuperarlo dal vostro quaderno ad anelli, cercando semplicemente l'etichetta giusta.\n",
    "In Python questa cosa si fa con le variabili: si scrive il l'etichetta, il simbolo `=` e quindi il contenuto della variabile. Per recuperare il contenuto della variabile, basta usare la sua etichetta (senza virgolette):"
   ]
  },
  {
   "cell_type": "code",
   "execution_count": null,
   "metadata": {},
   "outputs": [],
   "source": [
    "indirizzo_nonno = \"via del bosco 134, Milano, Italia\"\n",
    "print(\"l'indirizzo del nonno è:\")\n",
    "print(indirizzo_nonno)"
   ]
  },
  {
   "cell_type": "markdown",
   "metadata": {},
   "source": [
    "Dentro ad una variabile ci posso mettere un po' quello che voglio, non solo del testo. Ad esempio ci posso mettere dei numeri interi, o anche con la virgola"
   ]
  },
  {
   "cell_type": "code",
   "execution_count": null,
   "metadata": {},
   "outputs": [],
   "source": [
    "numero = 13\n",
    "altro_numero = 15\n",
    "terzo_numero =12.4\n",
    "print(numero)\n",
    "print(altro_numero)\n",
    "print(terzo_numero)"
   ]
  },
  {
   "cell_type": "markdown",
   "metadata": {},
   "source": [
    "Tra l'altro Python è un linguaggio `dinamico` cioè è capace da solo di capire di che tipo è il contenuto di una variabile ad esempio se è un numero o una stringa (una stringa è come nei linuaggi di programmazione si chiama un testo, quello tra virgolette) e fare le operazioni giuste. Ad esempio il simbolo `+` serve per fare la somma tra numeri, oppure per unire due testi. Guardate questo programma e provate ad indovinare che cosa scriverà prima di provare ad eseguirlo con il solito `CTRL` + `↵ Invio`"
   ]
  },
  {
   "cell_type": "code",
   "execution_count": null,
   "metadata": {},
   "outputs": [],
   "source": [
    "numero1 = 10\n",
    "numero2 = 23\n",
    "stringa = \"questa è una stringa \"\n",
    "stringa2 = \"ciao \"\n",
    "numero3 = \"questo è un numero? \"\n",
    "\n",
    "print(numero1 + numero2)\n",
    "print(stringa2 + stringa2)\n",
    "print(stringa2 + numero3)\n",
    "somma = numero1 + numero2\n",
    "print(somma)\n",
    "sommaStringe = numero3 + stringa2 \n",
    "print(sommaStringe)"
   ]
  },
  {
   "cell_type": "markdown",
   "metadata": {},
   "source": [
    "Avete visto che Python capisce di che tipo sono le variabili dal loro contenuto e non dal loro nome. Per questo `numero3` viene trattato come un stringa ed il simbolo `+` usato per unire (a proposito si unire due stringhe si dice concatenare)due stringhe e non per fare la somma come per `numero1` e `numero2`. Ma cosa succede se concateniamo una stringa ed un numero? Proviamo con il solito `CTRL` + `↵ Invio`"
   ]
  },
  {
   "cell_type": "code",
   "execution_count": null,
   "metadata": {},
   "outputs": [],
   "source": [
    "sommaStringaNumero = stringa2 + numero1"
   ]
  },
  {
   "cell_type": "markdown",
   "metadata": {},
   "source": [
    "Otteniamo un errore. Python ci dice possiamo concatenare solo `str` (stringhe) e non `int` (numeri interi).\n",
    "Avete notato che ho usato le variabili del blocco precedente? Questo perchè le variabili riservano aree di memoria che vengono tenute per tutto il documento. Per questo è importante il numerino che vi appare accanto ad ogni blocco di codice. Perchè così sapete in che ordine li avete eseguiti. Se eseguite un blocco che cambia le variabili prima o dopo la cosa cambia. Facciamo un esempio: eseguite il blocco di codice qui sotto: "
   ]
  },
  {
   "cell_type": "code",
   "execution_count": null,
   "metadata": {},
   "outputs": [],
   "source": [
    "print(numero1)\n",
    "print(numero2)"
   ]
  },
  {
   "cell_type": "markdown",
   "metadata": {},
   "source": [
    "Ora provate ad eseguire questo (non succederà apparentemente niente, ma apparirà un numero a finaco tra le parentesi quadrate):"
   ]
  },
  {
   "cell_type": "code",
   "execution_count": null,
   "metadata": {},
   "outputs": [],
   "source": [
    "numero1 = numero1 + 2"
   ]
  },
  {
   "cell_type": "markdown",
   "metadata": {},
   "source": [
    "Quello che è successo in realtà è che il contenuto della variabile `numero1` è stato incrementato di 2. Se ora tornate sopra e riesiguite il blocco di codice precedente (quello con le `print`) vedrete che il numero di fianco cambia (perchè lo state eseguendo di nuovo e sarà maggiore di quello del codice contenente l'incremento di `numero1`). Questo indica che risentirà delle modifiche fatte in qualunque esecuzione precedente...quindi la prima `print` stamperà un risultato diverso. E se provate ad eseguire 3 volte la somma qui sopra e poi il bloccoprecedente con le `print` cosa vi aspettate che succeda...non c'è nulla di meglio che provare con i vostri soliti `CTRL` + `↵ Invio` "
   ]
  },
  {
   "cell_type": "markdown",
   "metadata": {},
   "source": [
    "## Prendere un valore da tastiera e metterlo in una variabile\n",
    "Una cosa piuttosto utile, e che useremo spesso negli esempi e negli esercizi più avanti, è quella di poter inserire un valore mentre si esegue un programma e salvarlo in una variabile. Per questo c'è la funzione `input`. Provate a dare un'occhiata al codice qui sotto e e quindi eseguitelo con il solito `CTRL` + `↵ Invio`"
   ]
  },
  {
   "cell_type": "code",
   "execution_count": null,
   "metadata": {},
   "outputs": [],
   "source": [
    "nome = input(\"inserisci il tuo nome:\")\n",
    "print(\"Il tuo nome è \" + nome)"
   ]
  },
  {
   "cell_type": "markdown",
   "metadata": {},
   "source": [
    "Andiamo avanti con il prossimo capitolo che è quello sul [controllo di flusso](./ControlloDiFlusso.ipynb)"
   ]
  }
 ],
 "metadata": {
  "kernelspec": {
   "display_name": "Python 3",
   "language": "python",
   "name": "python3"
  },
  "language_info": {
   "codemirror_mode": {
    "name": "ipython",
    "version": 3
   },
   "file_extension": ".py",
   "mimetype": "text/x-python",
   "name": "python",
   "nbconvert_exporter": "python",
   "pygments_lexer": "ipython3",
   "version": "3.7.6"
  }
 },
 "nbformat": 4,
 "nbformat_minor": 4
}
