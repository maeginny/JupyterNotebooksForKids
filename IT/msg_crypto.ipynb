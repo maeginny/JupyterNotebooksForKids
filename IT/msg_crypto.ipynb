{
 "cells": [
  {
   "cell_type": "markdown",
   "metadata": {},
   "source": [
    "# Creare un codice crittografico\n",
    "L'obiettivo di questo corso è quello di imparare a scrivere codice in python che sia in grado di cifrare e decifrare un messaggio.\n",
    "Il metodo che useremo è quello di translitterare il messaggio. Questo buffo temone significa semplicemente che il messaggio viene scritto con lettere diverse in modo da renderlo illeggibile. L'esempio più semplice che si può fare è quello di utilizzare la lettera successiva dell'alfabeto. In questo modo ad esempio avremo che il messaggio:\n",
    "\"ciao\"\n",
    "diventerà\n",
    "\"dlbp\"\n",
    "\n",
    "Una cifratuura di questo tipo può essere gestita facilmente a mano, ma può anche essre facilmente \"bucata\", come si dice in gergo, ovvero leggendo messaggi cifrati si può intuire queale è il metodo di cifratura.\n",
    "Noi vedremo qualche transliterrazione più complessa, che è molto più difficile o noiosa da gestire a mano, ma anche molto più dificcile da \"bucare\"\n",
    "E se non la possiamo festire a mano, il cmputer e la programmazione ci vengono in aiuta.\n",
    "\n",
    "Come detto useremo un linguaggio di programmazione che si chiama python...che potrete usare interattivamente direttamente dall'interno di questo documento.\n",
    "Il box che vedete qui sotto è un semplicissimo programma python che non fa altro che stampare (*print* in inglese vuol dire proprio stampa) il pezzetto di testo (che in programmazione si chiama **stringa** e deve essere messo tra virgolette). Per vedere qual'è il risultato di quella riga di codice baste che clicchiate dentro al riquadro e premiate sulla tastiera i tasti CTRL+INVIO"
   ]
  },
  {
   "cell_type": "code",
   "execution_count": null,
   "metadata": {},
   "outputs": [],
   "source": [
    "print(\"Ciao Da Python\")"
   ]
  },
  {
   "cell_type": "markdown",
   "metadata": {},
   "source": [
    "E potete anche modificare il codice che vedete nei riquadri\\! Provate a cliccare sul riquadro sopra e modificare il codice sopra per aggiungere il vostro nome nel saluto.\n",
    "Ma potete anche aggiungere una altra riga che stampi (**print**) un altro messaggio. Provate e poi premete di nuovo CTRL-INVIO per vedere come cambia il risultato"
   ]
  },
  {
   "cell_type": "markdown",
   "metadata": {},
   "source": [
    "Allora cominciamo a fare un pezzettino di programma che sia in grado di registrare un messaggio. Per farlo useremo un funzione *input* che leggerà quello che scrivete da tastiera. Dove metterà questa **stringa** letta dalla tastiera? In una **variabile** che chiamiamo messaggio. Le **variabili** sono delle aree della memoria del computer a cui diamo un nome. Possiamo ripescare il contenuto di quella area di memoria ogni volta che vogliamo usando il nome che le abbiamo dato. Nell'esempio qui sotto la usiamo per una istruzione *print* che stamperà il contenuto della **variabile** *messaggio* che abbiamo riempito prima con l'istruzione *input*\n",
    "Proviamolo come al solito cliccando nel riquadro qui sotto e premendo CTRL-INVIO"
   ]
  },
  {
   "cell_type": "code",
   "execution_count": null,
   "metadata": {},
   "outputs": [],
   "source": [
    "messaggio = input(\"messaggio cifrato\")\n",
    "print(messaggio)\n"
   ]
  },
  {
   "cell_type": "code",
   "execution_count": null,
   "metadata": {},
   "outputs": [],
   "source": [
    "len(messaggio)"
   ]
  },
  {
   "cell_type": "code",
   "execution_count": null,
   "metadata": {},
   "outputs": [],
   "source": [
    "for lettera in messaggio:\n",
    "    print(lettera)"
   ]
  },
  {
   "cell_type": "code",
   "execution_count": null,
   "metadata": {},
   "outputs": [],
   "source": [
    "for lettera in messaggio:\n",
    "    print(ord(lettera) - ord('a'))"
   ]
  },
  {
   "cell_type": "code",
   "execution_count": null,
   "metadata": {},
   "outputs": [],
   "source": [
    "for lettera in messaggio:\n",
    "    print(ord(lettera)+1)"
   ]
  },
  {
   "cell_type": "code",
   "execution_count": null,
   "metadata": {},
   "outputs": [],
   "source": [
    "for lettera in messaggio:\n",
    "    print(chr(ord(lettera)+1))"
   ]
  },
  {
   "cell_type": "code",
   "execution_count": null,
   "metadata": {},
   "outputs": [],
   "source": [
    "posizione = 0\n",
    "messaggioCifrato = \"\"\n",
    "while posizione < len(messaggio):\n",
    "    messaggioCifrato = messaggioCifrato + chr(ord(messaggio[posizione])+1)\n",
    "    posizione = posizione + 1\n",
    "print(messaggioCifrato)"
   ]
  },
  {
   "cell_type": "code",
   "execution_count": null,
   "metadata": {},
   "outputs": [],
   "source": [
    "posizione = 0\n",
    "messaggioDecifrato = \"\"\n",
    "while posizione < len(messaggio):\n",
    "    messaggioDecifrato = messaggioDecifrato + chr(ord(messaggioCifrato[posizione])-1)\n",
    "    posizione = posizione + 1\n",
    "print(messaggioDecifrato)"
   ]
  },
  {
   "cell_type": "code",
   "execution_count": null,
   "metadata": {},
   "outputs": [],
   "source": [
    "messaggio = input(\"messaggio\")\n",
    "chiaveN = input(\"chiave cifratura numerica\")\n",
    "print(messaggio)"
   ]
  },
  {
   "cell_type": "code",
   "execution_count": null,
   "metadata": {},
   "outputs": [],
   "source": [
    "posizione = 0\n",
    "messaggioCifrato = \"\"\n",
    "res = [int(x) for x in str(chiaveN)] \n",
    "while posizione < len(messaggio):\n",
    "    messaggioCifrato = messaggioCifrato + chr(ord(messaggio[posizione])+res[posizione % len(chiaveN)])\n",
    "    posizione = posizione + 1\n",
    "print(messaggioCifrato)"
   ]
  },
  {
   "cell_type": "code",
   "execution_count": null,
   "metadata": {},
   "outputs": [],
   "source": [
    "messaggio = input(\"messaggio\")\n",
    "chiave = input(\"chiave cifratura\")\n",
    "print(messaggio)"
   ]
  },
  {
   "cell_type": "code",
   "execution_count": null,
   "metadata": {},
   "outputs": [],
   "source": [
    "posizione = 0\n",
    "messaggioCifrato = \"\"\n",
    "while posizione < len(messaggio):\n",
    "    messaggioCifrato = messaggioCifrato + chr(ord(messaggio[posizione])+ord(chiave[posizione % len(chiave)]) )\n",
    "    posizione = posizione + 1\n",
    "print(messaggioCifrato)"
   ]
  },
  {
   "cell_type": "code",
   "execution_count": null,
   "metadata": {},
   "outputs": [],
   "source": [
    "posizione = 0\n",
    "messaggioDecifrato = \"\"\n",
    "while posizione < len(messaggio):\n",
    "    messaggioDecifrato = messaggioDecifrato + chr(ord(messaggioCifrato[posizione])- ord(chiave[posizione % len(chiave)]))\n",
    "    posizione = posizione + 1\n",
    "print(messaggioDecifrato)"
   ]
  }
 ],
 "metadata": {
  "kernelspec": {
   "display_name": "Python 3",
   "language": "python",
   "name": "python3"
  },
  "language_info": {
   "codemirror_mode": {
    "name": "ipython",
    "version": 3
   },
   "file_extension": ".py",
   "mimetype": "text/x-python",
   "name": "python",
   "nbconvert_exporter": "python",
   "pygments_lexer": "ipython3",
   "version": "3.7.5"
  }
 },
 "nbformat": 4,
 "nbformat_minor": 4
}
