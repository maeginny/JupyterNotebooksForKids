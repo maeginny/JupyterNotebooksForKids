{
 "cells": [
  {
   "cell_type": "markdown",
   "metadata": {},
   "source": [
    "# Cicli\n",
    "Nel capitolo sul [controllo di flusso](./ControlloDiFlusso.ipynb) abbiamo visto che il normale flusso di codice che esegue le istruzioni in sequenza può essere deviato usando il comand `if` e le sue varianti.\n",
    "In questo capitolo vedremo i comandi che permettoo di ripetere ciclicamente dei blocchi di codice.\n",
    "\n",
    "Iniziamo con una domanda: se voleste far stampare `\"ciao\"` 5 volte. Il modo più semplice di tutti sarebbe questo:"
   ]
  },
  {
   "cell_type": "code",
   "execution_count": 1,
   "metadata": {},
   "outputs": [
    {
     "name": "stdout",
     "output_type": "stream",
     "text": [
      "ciao\n",
      "ciao\n",
      "ciao\n",
      "ciao\n",
      "ciao\n"
     ]
    }
   ],
   "source": [
    "print(\"ciao\")\n",
    "print(\"ciao\")\n",
    "print(\"ciao\")\n",
    "print(\"ciao\")\n",
    "print(\"ciao\")"
   ]
  },
  {
   "cell_type": "markdown",
   "metadata": {},
   "source": [
    "Se avete provato ad eseguirlo avrete visto che funziona. Ma se dovessimo stamparlo per  10, 100 o per 1000 volte? Potremmo fare nello stesso modo con 100 o 1000 istruzioni `print`...certamente è poco pratico. Per questo ci vengono in soccorso i cicli. Lo stesso programma di prima può essere scritto in questo modo:"
   ]
  },
  {
   "cell_type": "code",
   "execution_count": 9,
   "metadata": {},
   "outputs": [
    {
     "name": "stdout",
     "output_type": "stream",
     "text": [
      "ciao0\n",
      "ciao1\n",
      "ciao2\n",
      "ciao3\n",
      "ciao4\n"
     ]
    }
   ],
   "source": [
    "i = 0\n",
    "while i < 5:\n",
    "    print(\"ciao\" + str(i))\n",
    "    i = i + 1"
   ]
  }
 ],
 "metadata": {
  "kernelspec": {
   "display_name": "Python 3",
   "language": "python",
   "name": "python3"
  },
  "language_info": {
   "codemirror_mode": {
    "name": "ipython",
    "version": 3
   },
   "file_extension": ".py",
   "mimetype": "text/x-python",
   "name": "python",
   "nbconvert_exporter": "python",
   "pygments_lexer": "ipython3",
   "version": "3.7.5"
  }
 },
 "nbformat": 4,
 "nbformat_minor": 4
}
