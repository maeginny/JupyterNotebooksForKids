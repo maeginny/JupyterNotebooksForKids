{
 "cells": [
  {
   "cell_type": "markdown",
   "metadata": {},
   "source": [
    "# Cicli\n",
    "Nel capitolo sul [controllo di flusso](./ControlloDiFlusso.ipynb) abbiamo visto che il normale flusso di codice che esegue le istruzioni in sequenza può essere deviato usando il comand `if` e le sue varianti.\n",
    "In questo capitolo vedremo i comandi che permettoo di ripetere ciclicamente dei blocchi di codice.\n",
    "\n",
    "Iniziamo con una domanda: se voleste far stampare `\"ciao\"` 5 volte. Il modo più semplice di tutti sarebbe questo:"
   ]
  },
  {
   "cell_type": "code",
   "execution_count": 1,
   "metadata": {},
   "outputs": [
    {
     "name": "stdout",
     "output_type": "stream",
     "text": [
      "ciao\n",
      "ciao\n",
      "ciao\n",
      "ciao\n",
      "ciao\n"
     ]
    }
   ],
   "source": [
    "print(\"ciao\")\n",
    "print(\"ciao\")\n",
    "print(\"ciao\")\n",
    "print(\"ciao\")\n",
    "print(\"ciao\")"
   ]
  },
  {
   "cell_type": "markdown",
   "metadata": {},
   "source": [
    "Se avete provato ad eseguirlo avrete visto che funziona. Ma se dovessimo stamparlo per  10, 100 o per 1000 volte? Potremmo fare nello stesso modo con 100 o 1000 istruzioni `print`...certamente è poco pratico. Per questo ci vengono in soccorso i cicli. Lo stesso programma di prima può essere scritto in questo modo:"
   ]
  },
  {
   "cell_type": "code",
   "execution_count": 9,
   "metadata": {},
   "outputs": [
    {
     "name": "stdout",
     "output_type": "stream",
     "text": [
      "ciao0\n",
      "ciao1\n",
      "ciao2\n",
      "ciao3\n",
      "ciao4\n"
     ]
    }
   ],
   "source": [
    "i = 0\n",
    "while i < 5:\n",
    "    print(\"ciao\" + str(i))\n",
    "    i = i + 1"
   ]
  },
  {
   "cell_type": "markdown",
   "metadata": {},
   "source": [
    "Quello sopra è un ciclo che diciamo si può fare in quasi tutti i linguaggi di programmazione. per fare un ciclo molto più \"python style\" dobbiamo usare il comando `for` abbinato al comando `range`.\n",
    "Iniziamo proprio dal secondo. Sapete cosa significa la parola *range* in inglese? Significa *intervallo*. Sapendo questa cosa credo che possiate facilmente immaginare cosa fa il comando qui sotto\n"
   ]
  },
  {
   "cell_type": "code",
   "execution_count": 2,
   "metadata": {},
   "outputs": [
    {
     "name": "stdout",
     "output_type": "stream",
     "text": "[0, 1, 2, 3, 4]\n"
    }
   ],
   "source": [
    "print(list(range(0,5)))"
   ]
  },
  {
   "cell_type": "markdown",
   "metadata": {},
   "source": [
    "Quello che abbiamo fatto qui sopra è quello di stampare una lista (di numeri) nell'intervallo da 0 a 5. Il comando `range` insomma fa per voi quello che abbiamo fatto nel ciclo `while` sopra con la variabile `i` assegnadogli il valore `0` prima di iniziare il ciclo e sommando 1 ad ogni passo del ciclo.  Ma se ora vi dico che il comando `for..in` ci permette di fare un ciclo per ogni elemento di un certo intervallo...allora possiamo riscrivere il ciclo `while` sopra in modo più compatto e più \"pyton style\"\n"
   ]
  },
  {
   "cell_type": "code",
   "execution_count": 5,
   "metadata": {},
   "outputs": [
    {
     "name": "stdout",
     "output_type": "stream",
     "text": "ciao0\nciao1\nciao2\nciao3\nciao4\n"
    }
   ],
   "source": [
    "for i in range(0,5):\n",
    "    print(\"ciao\" +str(i))"
   ]
  },
  {
   "cell_type": "markdown",
   "metadata": {},
   "source": [
    "Più comodo vero? E si rischia anche meno di sbagliare. Abbiamo infatti scritto 2 righe in meno di codice (l'assegnazione della variabile `i = 0` e la somma `i= i +1` )... e credetemi anche le righe più semplici possono avere degli errori di distrazione.\n",
    "Abbiamo visto le basi dei concetti dei cicli. E abbiamo introdotto il comando `range` che crea una lista di numeri da scorrere con il comando `for`\n",
    "Ma le liste possono contenere non solo numeri, vale la pena di darci una occhiata nel prossimo capitolo: Liste\n"
   ]
  }
 ],
 "metadata": {
  "kernelspec": {
   "display_name": "Python 3",
   "language": "python",
   "name": "python3"
  },
  "language_info": {
   "codemirror_mode": {
    "name": "ipython",
    "version": 3
   },
   "file_extension": ".py",
   "mimetype": "text/x-python",
   "name": "python",
   "nbconvert_exporter": "python",
   "pygments_lexer": "ipython3",
   "version": "3.7.6-final"
  }
 },
 "nbformat": 4,
 "nbformat_minor": 4
}